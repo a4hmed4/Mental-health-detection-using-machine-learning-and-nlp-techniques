{
  "cells": [
    {
      "cell_type": "markdown",
      "metadata": {
        "id": "9jdjU2tPS3TV"
      },
      "source": [
        "# Loading data and preliminary analysis"
      ]
    },
    {
      "cell_type": "code",
      "execution_count": 1,
      "metadata": {},
      "outputs": [
        {
          "name": "stdout",
          "output_type": "stream",
          "text": [
            "Defaulting to user installation because normal site-packages is not writeable\n",
            "Requirement already satisfied: absl-py==2.1.0 in /home/ahmed244/.local/lib/python3.10/site-packages (from -r ../requirements.txt (line 1)) (2.1.0)\n",
            "Requirement already satisfied: astunparse==1.6.3 in /home/ahmed244/.local/lib/python3.10/site-packages (from -r ../requirements.txt (line 2)) (1.6.3)\n",
            "Collecting cachetools==5.3.2 (from -r ../requirements.txt (line 3))\n",
            "  Using cached cachetools-5.3.2-py3-none-any.whl.metadata (5.2 kB)\n",
            "Collecting certifi==2023.11.17 (from -r ../requirements.txt (line 4))\n",
            "  Using cached certifi-2023.11.17-py3-none-any.whl.metadata (2.2 kB)\n",
            "Requirement already satisfied: charset-normalizer==3.3.2 in /home/ahmed244/.local/lib/python3.10/site-packages (from -r ../requirements.txt (line 5)) (3.3.2)\n",
            "Collecting click==8.1.7 (from -r ../requirements.txt (line 6))\n",
            "  Using cached click-8.1.7-py3-none-any.whl.metadata (3.0 kB)\n",
            "Collecting contourpy==1.1.1 (from -r ../requirements.txt (line 7))\n",
            "  Using cached contourpy-1.1.1-cp310-cp310-manylinux_2_17_x86_64.manylinux2014_x86_64.whl.metadata (5.9 kB)\n",
            "Collecting cycler==0.12.1 (from -r ../requirements.txt (line 8))\n",
            "  Using cached cycler-0.12.1-py3-none-any.whl.metadata (3.8 kB)\n",
            "Collecting flatbuffers==23.5.26 (from -r ../requirements.txt (line 9))\n",
            "  Using cached flatbuffers-23.5.26-py2.py3-none-any.whl.metadata (850 bytes)\n",
            "Collecting fonttools==4.47.2 (from -r ../requirements.txt (line 10))\n",
            "  Using cached fonttools-4.47.2-cp310-cp310-manylinux_2_17_x86_64.manylinux2014_x86_64.whl.metadata (157 kB)\n",
            "Collecting gast==0.4.0 (from -r ../requirements.txt (line 11))\n",
            "  Using cached gast-0.4.0-py3-none-any.whl.metadata (1.1 kB)\n",
            "Collecting google-auth==2.27.0 (from -r ../requirements.txt (line 12))\n",
            "  Using cached google_auth-2.27.0-py2.py3-none-any.whl.metadata (4.7 kB)\n",
            "Collecting google-auth-oauthlib==1.0.0 (from -r ../requirements.txt (line 13))\n",
            "  Using cached google_auth_oauthlib-1.0.0-py2.py3-none-any.whl.metadata (2.7 kB)\n",
            "Requirement already satisfied: google-pasta==0.2.0 in /home/ahmed244/.local/lib/python3.10/site-packages (from -r ../requirements.txt (line 14)) (0.2.0)\n",
            "Collecting grpcio==1.60.0 (from -r ../requirements.txt (line 15))\n",
            "  Using cached grpcio-1.60.0-cp310-cp310-manylinux_2_17_x86_64.manylinux2014_x86_64.whl.metadata (4.0 kB)\n",
            "Collecting h5py==3.10.0 (from -r ../requirements.txt (line 16))\n",
            "  Using cached h5py-3.10.0-cp310-cp310-manylinux_2_17_x86_64.manylinux2014_x86_64.whl.metadata (2.5 kB)\n",
            "Collecting idna==3.6 (from -r ../requirements.txt (line 17))\n",
            "  Using cached idna-3.6-py3-none-any.whl.metadata (9.9 kB)\n",
            "Collecting importlib-resources==6.1.1 (from -r ../requirements.txt (line 18))\n",
            "  Using cached importlib_resources-6.1.1-py3-none-any.whl.metadata (4.1 kB)\n",
            "Collecting joblib==1.3.2 (from -r ../requirements.txt (line 19))\n",
            "  Using cached joblib-1.3.2-py3-none-any.whl.metadata (5.4 kB)\n",
            "Collecting keras==2.13.1 (from -r ../requirements.txt (line 20))\n",
            "  Using cached keras-2.13.1-py3-none-any.whl.metadata (2.4 kB)\n",
            "Collecting kiwisolver==1.4.5 (from -r ../requirements.txt (line 21))\n",
            "  Using cached kiwisolver-1.4.5-cp310-cp310-manylinux_2_12_x86_64.manylinux2010_x86_64.whl.metadata (6.4 kB)\n",
            "Collecting libclang==16.0.6 (from -r ../requirements.txt (line 22))\n",
            "  Using cached libclang-16.0.6-py2.py3-none-manylinux2010_x86_64.whl.metadata (5.2 kB)\n",
            "Collecting Markdown==3.5.2 (from -r ../requirements.txt (line 23))\n",
            "  Using cached Markdown-3.5.2-py3-none-any.whl.metadata (7.0 kB)\n",
            "Collecting MarkupSafe==2.1.4 (from -r ../requirements.txt (line 24))\n",
            "  Using cached MarkupSafe-2.1.4-cp310-cp310-manylinux_2_17_x86_64.manylinux2014_x86_64.whl.metadata (3.0 kB)\n",
            "Collecting matplotlib==3.7.4 (from -r ../requirements.txt (line 25))\n",
            "  Using cached matplotlib-3.7.4-cp310-cp310-manylinux_2_17_x86_64.manylinux2014_x86_64.whl.metadata (5.7 kB)\n",
            "Requirement already satisfied: nltk==3.7.0 in /home/ahmed244/.local/lib/python3.10/site-packages (from -r ../requirements.txt (line 26)) (3.7)\n",
            "Collecting numpy==1.24.3 (from -r ../requirements.txt (line 27))\n",
            "  Using cached numpy-1.24.3-cp310-cp310-manylinux_2_17_x86_64.manylinux2014_x86_64.whl.metadata (5.6 kB)\n",
            "Collecting oauthlib==3.2.2 (from -r ../requirements.txt (line 28))\n",
            "  Using cached oauthlib-3.2.2-py3-none-any.whl.metadata (7.5 kB)\n",
            "Requirement already satisfied: opt-einsum==3.3.0 in /home/ahmed244/.local/lib/python3.10/site-packages (from -r ../requirements.txt (line 29)) (3.3.0)\n",
            "Collecting pandas==2.0.3 (from -r ../requirements.txt (line 30))\n",
            "  Using cached pandas-2.0.3-cp310-cp310-manylinux_2_17_x86_64.manylinux2014_x86_64.whl.metadata (18 kB)\n",
            "Collecting pillow==10.2.0 (from -r ../requirements.txt (line 31))\n",
            "  Using cached pillow-10.2.0-cp310-cp310-manylinux_2_28_x86_64.whl.metadata (9.7 kB)\n",
            "Collecting protobuf==4.25.2 (from -r ../requirements.txt (line 32))\n",
            "  Using cached protobuf-4.25.2-cp37-abi3-manylinux2014_x86_64.whl.metadata (541 bytes)\n",
            "Collecting pyasn1==0.5.1 (from -r ../requirements.txt (line 33))\n",
            "  Using cached pyasn1-0.5.1-py2.py3-none-any.whl.metadata (8.6 kB)\n",
            "Collecting pyasn1-modules==0.3.0 (from -r ../requirements.txt (line 34))\n",
            "  Using cached pyasn1_modules-0.3.0-py2.py3-none-any.whl.metadata (3.6 kB)\n",
            "Collecting pyparsing==3.1.1 (from -r ../requirements.txt (line 35))\n",
            "  Using cached pyparsing-3.1.1-py3-none-any.whl.metadata (5.1 kB)\n",
            "Collecting pytz==2023.3.post1 (from -r ../requirements.txt (line 36))\n",
            "  Using cached pytz-2023.3.post1-py2.py3-none-any.whl.metadata (22 kB)\n",
            "Collecting regex==2023.12.25 (from -r ../requirements.txt (line 37))\n",
            "  Using cached regex-2023.12.25-cp310-cp310-manylinux_2_17_x86_64.manylinux2014_x86_64.whl.metadata (40 kB)\n",
            "Requirement already satisfied: requests==2.31.0 in /home/ahmed244/.local/lib/python3.10/site-packages (from -r ../requirements.txt (line 38)) (2.31.0)\n",
            "Collecting requests-oauthlib==1.3.1 (from -r ../requirements.txt (line 39))\n",
            "  Using cached requests_oauthlib-1.3.1-py2.py3-none-any.whl.metadata (10 kB)\n",
            "Requirement already satisfied: rsa==4.9 in /home/ahmed244/.local/lib/python3.10/site-packages (from -r ../requirements.txt (line 40)) (4.9)\n",
            "Collecting tensorboard==2.13.0 (from -r ../requirements.txt (line 41))\n",
            "  Using cached tensorboard-2.13.0-py3-none-any.whl.metadata (1.8 kB)\n",
            "Requirement already satisfied: tensorboard-data-server==0.7.2 in /home/ahmed244/.local/lib/python3.10/site-packages (from -r ../requirements.txt (line 42)) (0.7.2)\n",
            "Collecting tensorflow==2.13.0 (from -r ../requirements.txt (line 43))\n",
            "  Using cached tensorflow-2.13.0-cp310-cp310-manylinux_2_17_x86_64.manylinux2014_x86_64.whl.metadata (3.4 kB)\n",
            "Collecting tensorflow-estimator==2.13.0 (from -r ../requirements.txt (line 44))\n",
            "  Using cached tensorflow_estimator-2.13.0-py2.py3-none-any.whl.metadata (1.3 kB)\n",
            "\u001b[31mERROR: Could not find a version that satisfies the requirement tensorflow-macos==2.13.0 (from versions: none)\u001b[0m\u001b[31m\n",
            "\u001b[0m\u001b[31mERROR: No matching distribution found for tensorflow-macos==2.13.0\u001b[0m\u001b[31m\n",
            "\u001b[0m\n",
            "\u001b[1m[\u001b[0m\u001b[34;49mnotice\u001b[0m\u001b[1;39;49m]\u001b[0m\u001b[39;49m A new release of pip is available: \u001b[0m\u001b[31;49m24.0\u001b[0m\u001b[39;49m -> \u001b[0m\u001b[32;49m25.1.1\u001b[0m\n",
            "\u001b[1m[\u001b[0m\u001b[34;49mnotice\u001b[0m\u001b[1;39;49m]\u001b[0m\u001b[39;49m To update, run: \u001b[0m\u001b[32;49mpip install --upgrade pip\u001b[0m\n",
            "Note: you may need to restart the kernel to use updated packages.\n"
          ]
        },
        {
          "name": "stderr",
          "output_type": "stream",
          "text": [
            "/usr/lib/python3/dist-packages/scipy/__init__.py:146: UserWarning: A NumPy version >=1.17.3 and <1.25.0 is required for this version of SciPy (detected version 1.26.4\n",
            "  warnings.warn(f\"A NumPy version >={np_minversion} and <{np_maxversion}\"\n",
            "[nltk_data] Downloading package punkt to /home/ahmed244/nltk_data...\n",
            "[nltk_data]   Package punkt is already up-to-date!\n",
            "[nltk_data] Downloading package averaged_perceptron_tagger to\n",
            "[nltk_data]     /home/ahmed244/nltk_data...\n",
            "[nltk_data]   Package averaged_perceptron_tagger is already up-to-\n",
            "[nltk_data]       date!\n"
          ]
        }
      ],
      "source": [
        "# Install dependencies \n",
        "\n",
        "%pip install -r '../requirements.txt'\n",
        "\n",
        "import nltk \n",
        "\n",
        "nltk.download('punkt') \n",
        "nltk.download('averaged_perceptron_tagger') \n",
        "\n",
        "# Set paths \n",
        "\n",
        "path_to_csv = '../Dataset/Mental_Health_FAQ.csv'"
      ]
    },
    {
      "cell_type": "code",
      "execution_count": 2,
      "metadata": {
        "id": "C4ZJBL6Y08Me"
      },
      "outputs": [],
      "source": [
        "import pandas as pd\n",
        "import nltk \n",
        "import numpy as np\n",
        "import re\n",
        "\n",
        "from nltk.stem import wordnet                                  # to perform lemmitization\n",
        "from sklearn.feature_extraction.text import CountVectorizer    # to perform bow\n",
        "from sklearn.feature_extraction.text import TfidfVectorizer    # to perform tfidf\n",
        "from nltk import pos_tag                                       # for parts of speech\n",
        "from sklearn.metrics import pairwise_distances                 # to perfrom cosine similarity\n",
        "from nltk import word_tokenize                                 # to create tokens\n",
        "from nltk.corpus import stopwords                              # for stop words"
      ]
    },
    {
      "cell_type": "code",
      "execution_count": 3,
      "metadata": {
        "colab": {
          "base_uri": "https://localhost:8080/",
          "height": 203
        },
        "id": "Iibn50pd1mab",
        "outputId": "583e8d39-2c2b-42f9-e3dd-2b3656fadad4"
      },
      "outputs": [
        {
          "data": {
            "text/html": [
              "<div>\n",
              "<style scoped>\n",
              "    .dataframe tbody tr th:only-of-type {\n",
              "        vertical-align: middle;\n",
              "    }\n",
              "\n",
              "    .dataframe tbody tr th {\n",
              "        vertical-align: top;\n",
              "    }\n",
              "\n",
              "    .dataframe thead th {\n",
              "        text-align: right;\n",
              "    }\n",
              "</style>\n",
              "<table border=\"1\" class=\"dataframe\">\n",
              "  <thead>\n",
              "    <tr style=\"text-align: right;\">\n",
              "      <th></th>\n",
              "      <th>Question_ID</th>\n",
              "      <th>Questions</th>\n",
              "      <th>Answers</th>\n",
              "    </tr>\n",
              "  </thead>\n",
              "  <tbody>\n",
              "    <tr>\n",
              "      <th>0</th>\n",
              "      <td>1590140</td>\n",
              "      <td>What does it mean to have a mental illness?</td>\n",
              "      <td>Mental illnesses are health conditions that di...</td>\n",
              "    </tr>\n",
              "    <tr>\n",
              "      <th>1</th>\n",
              "      <td>2110618</td>\n",
              "      <td>Who does mental illness affect?</td>\n",
              "      <td>It is estimated that mental illness affects 1 ...</td>\n",
              "    </tr>\n",
              "    <tr>\n",
              "      <th>2</th>\n",
              "      <td>6361820</td>\n",
              "      <td>What causes mental illness?</td>\n",
              "      <td>It is estimated that mental illness affects 1 ...</td>\n",
              "    </tr>\n",
              "    <tr>\n",
              "      <th>3</th>\n",
              "      <td>9434130</td>\n",
              "      <td>What are some of the warning signs of mental i...</td>\n",
              "      <td>Symptoms of mental health disorders vary depen...</td>\n",
              "    </tr>\n",
              "    <tr>\n",
              "      <th>4</th>\n",
              "      <td>7657263</td>\n",
              "      <td>Can people with mental illness recover?</td>\n",
              "      <td>When healing from mental illness, early identi...</td>\n",
              "    </tr>\n",
              "  </tbody>\n",
              "</table>\n",
              "</div>"
            ],
            "text/plain": [
              "   Question_ID                                          Questions  \\\n",
              "0      1590140        What does it mean to have a mental illness?   \n",
              "1      2110618                    Who does mental illness affect?   \n",
              "2      6361820                        What causes mental illness?   \n",
              "3      9434130  What are some of the warning signs of mental i...   \n",
              "4      7657263            Can people with mental illness recover?   \n",
              "\n",
              "                                             Answers  \n",
              "0  Mental illnesses are health conditions that di...  \n",
              "1  It is estimated that mental illness affects 1 ...  \n",
              "2  It is estimated that mental illness affects 1 ...  \n",
              "3  Symptoms of mental health disorders vary depen...  \n",
              "4  When healing from mental illness, early identi...  "
            ]
          },
          "execution_count": 3,
          "metadata": {},
          "output_type": "execute_result"
        }
      ],
      "source": [
        "df = pd.read_csv(path_to_csv, nrows = 20)\n",
        "df.head()"
      ]
    },
    {
      "cell_type": "code",
      "execution_count": 4,
      "metadata": {
        "colab": {
          "base_uri": "https://localhost:8080/"
        },
        "id": "kmGaGT3mTPAw",
        "outputId": "19240647-6bda-46b6-f346-62501e3d0844"
      },
      "outputs": [
        {
          "data": {
            "text/plain": [
              "Question_ID    0\n",
              "Questions      0\n",
              "Answers        0\n",
              "dtype: int64"
            ]
          },
          "execution_count": 4,
          "metadata": {},
          "output_type": "execute_result"
        }
      ],
      "source": [
        "df.isnull().sum()"
      ]
    },
    {
      "cell_type": "markdown",
      "metadata": {
        "id": "hh7lUX72TSO9"
      },
      "source": [
        "# Clean data using NLTK\n",
        "\n",
        "\n",
        "\n",
        "\n"
      ]
    },
    {
      "cell_type": "code",
      "execution_count": 9,
      "metadata": {},
      "outputs": [
        {
          "name": "stderr",
          "output_type": "stream",
          "text": [
            "[nltk_data] Downloading package punkt to /home/ahmed244/nltk_data...\n",
            "[nltk_data]   Package punkt is already up-to-date!\n",
            "[nltk_data] Downloading package averaged_perceptron_tagger to\n",
            "[nltk_data]     /home/ahmed244/nltk_data...\n",
            "[nltk_data]   Package averaged_perceptron_tagger is already up-to-\n",
            "[nltk_data]       date!\n"
          ]
        },
        {
          "name": "stdout",
          "output_type": "stream",
          "text": [
            "[('Ahmed', 'NNP'), ('is', 'VBZ'), ('studying', 'VBG'), ('Artificial', 'JJ'), ('Intelligence', 'NNP'), ('.', '.')]\n"
          ]
        }
      ],
      "source": [
        "import nltk\n",
        "nltk.download('punkt')\n",
        "nltk.download('averaged_perceptron_tagger')\n",
        "\n",
        "from nltk import pos_tag, word_tokenize\n",
        "s = \"Ahmed is studying Artificial Intelligence.\"\n",
        "tokens = word_tokenize(s)\n",
        "print(pos_tag(tokens))\n"
      ]
    },
    {
      "cell_type": "code",
      "execution_count": 10,
      "metadata": {
        "colab": {
          "base_uri": "https://localhost:8080/"
        },
        "id": "DM0bO0b03dD2",
        "outputId": "611344d0-9c7c-4606-877a-48761278d876"
      },
      "outputs": [
        {
          "name": "stdout",
          "output_type": "stream",
          "text": [
            "absorb\n"
          ]
        },
        {
          "name": "stderr",
          "output_type": "stream",
          "text": [
            "[nltk_data] Downloading package omw-1.4 to /home/ahmed244/nltk_data...\n",
            "[nltk_data]   Package omw-1.4 is already up-to-date!\n",
            "[nltk_data] Downloading package wordnet to /home/ahmed244/nltk_data...\n",
            "[nltk_data]   Package wordnet is already up-to-date!\n"
          ]
        }
      ],
      "source": [
        "import nltk\n",
        "nltk.download('omw-1.4')\n",
        "nltk.download('wordnet')  # just in case\n",
        "\n",
        "from nltk.stem import WordNetLemmatizer\n",
        "\n",
        "lemma = WordNetLemmatizer()\n",
        "print(lemma.lemmatize('absorbed', pos='v'))\n"
      ]
    },
    {
      "cell_type": "code",
      "execution_count": 11,
      "metadata": {
        "colab": {
          "base_uri": "https://localhost:8080/",
          "height": 71
        },
        "id": "82lHgG0d3rBH",
        "outputId": "3f158b02-f7f5-4656-dbe4-cbe0c8713180"
      },
      "outputs": [
        {
          "data": {
            "text/plain": [
              "'absorb'"
            ]
          },
          "execution_count": 11,
          "metadata": {},
          "output_type": "execute_result"
        }
      ],
      "source": [
        "# nltk.download('wordnet')                    # uncomment if running the cell for the first time\n",
        "lemma = wordnet.WordNetLemmatizer()         \n",
        "lemma.lemmatize('absorbed', pos = 'v')        # lemmatize words"
      ]
    },
    {
      "cell_type": "code",
      "execution_count": 12,
      "metadata": {
        "colab": {
          "base_uri": "https://localhost:8080/"
        },
        "id": "jEw94aKZ3zvz",
        "outputId": "68c7fa09-ed14-4388-d8e9-5765567786b8"
      },
      "outputs": [
        {
          "data": {
            "text/plain": [
              "[('Ahmed', 'NNP'),\n",
              " ('is', 'VBZ'),\n",
              " ('studying', 'VBG'),\n",
              " ('Artificial', 'JJ'),\n",
              " ('Intelligence', 'NNP'),\n",
              " ('.', '.')]"
            ]
          },
          "execution_count": 12,
          "metadata": {},
          "output_type": "execute_result"
        }
      ],
      "source": [
        "pos_tag(nltk.word_tokenize(s),tagset = None)       # returns the parts of speech of every word"
      ]
    },
    {
      "cell_type": "code",
      "execution_count": 13,
      "metadata": {
        "colab": {
          "base_uri": "https://localhost:8080/"
        },
        "id": "T-BDv4Yj4Ngc",
        "outputId": "acd49f9f-0e2d-4e8f-824d-16f1b5ba5c1f"
      },
      "outputs": [
        {
          "name": "stdout",
          "output_type": "stream",
          "text": [
            "['a', 'about', 'above', 'after', 'again', 'against', 'ain', 'all', 'am', 'an', 'and', 'any', 'are', 'aren', \"aren't\", 'as', 'at', 'be', 'because', 'been', 'before', 'being', 'below', 'between', 'both', 'but', 'by', 'can', 'couldn', \"couldn't\", 'd', 'did', 'didn', \"didn't\", 'do', 'does', 'doesn', \"doesn't\", 'doing', 'don', \"don't\", 'down', 'during', 'each', 'few', 'for', 'from', 'further', 'had', 'hadn', \"hadn't\", 'has', 'hasn', \"hasn't\", 'have', 'haven', \"haven't\", 'having', 'he', \"he'd\", \"he'll\", 'her', 'here', 'hers', 'herself', \"he's\", 'him', 'himself', 'his', 'how', 'i', \"i'd\", 'if', \"i'll\", \"i'm\", 'in', 'into', 'is', 'isn', \"isn't\", 'it', \"it'd\", \"it'll\", \"it's\", 'its', 'itself', \"i've\", 'just', 'll', 'm', 'ma', 'me', 'mightn', \"mightn't\", 'more', 'most', 'mustn', \"mustn't\", 'my', 'myself', 'needn', \"needn't\", 'no', 'nor', 'not', 'now', 'o', 'of', 'off', 'on', 'once', 'only', 'or', 'other', 'our', 'ours', 'ourselves', 'out', 'over', 'own', 're', 's', 'same', 'shan', \"shan't\", 'she', \"she'd\", \"she'll\", \"she's\", 'should', 'shouldn', \"shouldn't\", \"should've\", 'so', 'some', 'such', 't', 'than', 'that', \"that'll\", 'the', 'their', 'theirs', 'them', 'themselves', 'then', 'there', 'these', 'they', \"they'd\", \"they'll\", \"they're\", \"they've\", 'this', 'those', 'through', 'to', 'too', 'under', 'until', 'up', 've', 'very', 'was', 'wasn', \"wasn't\", 'we', \"we'd\", \"we'll\", \"we're\", 'were', 'weren', \"weren't\", \"we've\", 'what', 'when', 'where', 'which', 'while', 'who', 'whom', 'why', 'will', 'with', 'won', \"won't\", 'wouldn', \"wouldn't\", 'y', 'you', \"you'd\", \"you'll\", 'your', \"you're\", 'yours', 'yourself', 'yourselves', \"you've\"]\n"
          ]
        },
        {
          "name": "stderr",
          "output_type": "stream",
          "text": [
            "[nltk_data] Downloading package stopwords to\n",
            "[nltk_data]     /home/ahmed244/nltk_data...\n",
            "[nltk_data]   Package stopwords is already up-to-date!\n"
          ]
        }
      ],
      "source": [
        "nltk.download('stopwords')            # uncomment if running the cell for the first time\n",
        "\n",
        "stop = stopwords.words('english')\n",
        "print(stop)"
      ]
    },
    {
      "cell_type": "code",
      "execution_count": 14,
      "metadata": {
        "id": "QmrI6JPL39US"
      },
      "outputs": [],
      "source": [
        "# function that performs text normalization steps and returns the lemmatized tokens as a sentence\n",
        "\n",
        "def text_normalization(text):\n",
        "    text = str(text).lower()                        # text to lower case\n",
        "    spl_char_text = re.sub(r'[^ a-z]','',text)      # removing special characters\n",
        "    tokens = nltk.word_tokenize(spl_char_text)      # word tokenizing\n",
        "    lema = wordnet.WordNetLemmatizer()              # intializing lemmatization\n",
        "    tags_list = pos_tag(tokens,tagset=None)         # parts of speech\n",
        "    lema_words = []                                 # empty list \n",
        "    for token,pos_token in tags_list:               # lemmatize according to POS\n",
        "        if pos_token.startswith('V'):               # Verb\n",
        "            pos_val = 'v'\n",
        "        elif pos_token.startswith('J'):             # Adjective\n",
        "            pos_val = 'a'\n",
        "        elif pos_token.startswith('R'):             # Adverb\n",
        "            pos_val = 'r'\n",
        "        else:\n",
        "            pos_val = 'n'                           # Noun\n",
        "        lema_token = lema.lemmatize(token,pos_val)\n",
        "\n",
        "        if lema_token in stop: \n",
        "          lema_words.append(lema_token)             # appending the lemmatized token into a list\n",
        "    \n",
        "    return \" \".join(lema_words) "
      ]
    },
    {
      "cell_type": "code",
      "execution_count": 15,
      "metadata": {
        "colab": {
          "base_uri": "https://localhost:8080/",
          "height": 36
        },
        "id": "jyvzid3c4A2x",
        "outputId": "29b0810a-2849-4fc7-9a72-3ea416432385"
      },
      "outputs": [
        {
          "data": {
            "text/plain": [
              "'you some about me'"
            ]
          },
          "execution_count": 15,
          "metadata": {},
          "output_type": "execute_result"
        }
      ],
      "source": [
        "text_normalization('telling you some stuffs about me')  # example"
      ]
    },
    {
      "cell_type": "code",
      "execution_count": 16,
      "metadata": {
        "colab": {
          "base_uri": "https://localhost:8080/",
          "height": 237
        },
        "id": "CXPVFcd64EIo",
        "outputId": "ab3c646a-ceef-47d8-c2b1-b51271ea48ff"
      },
      "outputs": [
        {
          "data": {
            "text/html": [
              "<div>\n",
              "<style scoped>\n",
              "    .dataframe tbody tr th:only-of-type {\n",
              "        vertical-align: middle;\n",
              "    }\n",
              "\n",
              "    .dataframe tbody tr th {\n",
              "        vertical-align: top;\n",
              "    }\n",
              "\n",
              "    .dataframe thead th {\n",
              "        text-align: right;\n",
              "    }\n",
              "</style>\n",
              "<table border=\"1\" class=\"dataframe\">\n",
              "  <thead>\n",
              "    <tr style=\"text-align: right;\">\n",
              "      <th></th>\n",
              "      <th>Question_ID</th>\n",
              "      <th>Questions</th>\n",
              "      <th>Answers</th>\n",
              "      <th>lemmatized_text</th>\n",
              "    </tr>\n",
              "  </thead>\n",
              "  <tbody>\n",
              "    <tr>\n",
              "      <th>0</th>\n",
              "      <td>1590140</td>\n",
              "      <td>What does it mean to have a mental illness?</td>\n",
              "      <td>Mental illnesses are health conditions that di...</td>\n",
              "      <td>what do it to have a</td>\n",
              "    </tr>\n",
              "    <tr>\n",
              "      <th>1</th>\n",
              "      <td>2110618</td>\n",
              "      <td>Who does mental illness affect?</td>\n",
              "      <td>It is estimated that mental illness affects 1 ...</td>\n",
              "      <td>who do</td>\n",
              "    </tr>\n",
              "    <tr>\n",
              "      <th>2</th>\n",
              "      <td>6361820</td>\n",
              "      <td>What causes mental illness?</td>\n",
              "      <td>It is estimated that mental illness affects 1 ...</td>\n",
              "      <td>what</td>\n",
              "    </tr>\n",
              "    <tr>\n",
              "      <th>3</th>\n",
              "      <td>9434130</td>\n",
              "      <td>What are some of the warning signs of mental i...</td>\n",
              "      <td>Symptoms of mental health disorders vary depen...</td>\n",
              "      <td>what be some of the of</td>\n",
              "    </tr>\n",
              "    <tr>\n",
              "      <th>4</th>\n",
              "      <td>7657263</td>\n",
              "      <td>Can people with mental illness recover?</td>\n",
              "      <td>When healing from mental illness, early identi...</td>\n",
              "      <td>can with</td>\n",
              "    </tr>\n",
              "  </tbody>\n",
              "</table>\n",
              "</div>"
            ],
            "text/plain": [
              "   Question_ID                                          Questions  \\\n",
              "0      1590140        What does it mean to have a mental illness?   \n",
              "1      2110618                    Who does mental illness affect?   \n",
              "2      6361820                        What causes mental illness?   \n",
              "3      9434130  What are some of the warning signs of mental i...   \n",
              "4      7657263            Can people with mental illness recover?   \n",
              "\n",
              "                                             Answers         lemmatized_text  \n",
              "0  Mental illnesses are health conditions that di...    what do it to have a  \n",
              "1  It is estimated that mental illness affects 1 ...                  who do  \n",
              "2  It is estimated that mental illness affects 1 ...                    what  \n",
              "3  Symptoms of mental health disorders vary depen...  what be some of the of  \n",
              "4  When healing from mental illness, early identi...                can with  "
            ]
          },
          "execution_count": 16,
          "metadata": {},
          "output_type": "execute_result"
        }
      ],
      "source": [
        "df['lemmatized_text'] = df['Questions'].apply(text_normalization)   # clean text\n",
        "df.head(5)"
      ]
    },
    {
      "cell_type": "code",
      "execution_count": 17,
      "metadata": {
        "id": "GRpLiLLR4T58"
      },
      "outputs": [],
      "source": [
        "cv = CountVectorizer()                                  # intializing the count vectorizer\n",
        "X = cv.fit_transform(df['lemmatized_text']).toarray()"
      ]
    },
    {
      "cell_type": "code",
      "execution_count": 18,
      "metadata": {
        "colab": {
          "base_uri": "https://localhost:8080/",
          "height": 223
        },
        "id": "HKDdHYo04XG9",
        "outputId": "caf8de83-10c9-47c7-bf7a-4178db9a77e0"
      },
      "outputs": [
        {
          "data": {
            "text/html": [
              "<div>\n",
              "<style scoped>\n",
              "    .dataframe tbody tr th:only-of-type {\n",
              "        vertical-align: middle;\n",
              "    }\n",
              "\n",
              "    .dataframe tbody tr th {\n",
              "        vertical-align: top;\n",
              "    }\n",
              "\n",
              "    .dataframe thead th {\n",
              "        text-align: right;\n",
              "    }\n",
              "</style>\n",
              "<table border=\"1\" class=\"dataframe\">\n",
              "  <thead>\n",
              "    <tr style=\"text-align: right;\">\n",
              "      <th></th>\n",
              "      <th>about</th>\n",
              "      <th>after</th>\n",
              "      <th>and</th>\n",
              "      <th>be</th>\n",
              "      <th>before</th>\n",
              "      <th>between</th>\n",
              "      <th>can</th>\n",
              "      <th>do</th>\n",
              "      <th>for</th>\n",
              "      <th>have</th>\n",
              "      <th>...</th>\n",
              "      <th>or</th>\n",
              "      <th>should</th>\n",
              "      <th>some</th>\n",
              "      <th>the</th>\n",
              "      <th>this</th>\n",
              "      <th>to</th>\n",
              "      <th>what</th>\n",
              "      <th>where</th>\n",
              "      <th>who</th>\n",
              "      <th>with</th>\n",
              "    </tr>\n",
              "  </thead>\n",
              "  <tbody>\n",
              "    <tr>\n",
              "      <th>0</th>\n",
              "      <td>0</td>\n",
              "      <td>0</td>\n",
              "      <td>0</td>\n",
              "      <td>0</td>\n",
              "      <td>0</td>\n",
              "      <td>0</td>\n",
              "      <td>0</td>\n",
              "      <td>1</td>\n",
              "      <td>0</td>\n",
              "      <td>1</td>\n",
              "      <td>...</td>\n",
              "      <td>0</td>\n",
              "      <td>0</td>\n",
              "      <td>0</td>\n",
              "      <td>0</td>\n",
              "      <td>0</td>\n",
              "      <td>1</td>\n",
              "      <td>1</td>\n",
              "      <td>0</td>\n",
              "      <td>0</td>\n",
              "      <td>0</td>\n",
              "    </tr>\n",
              "    <tr>\n",
              "      <th>1</th>\n",
              "      <td>0</td>\n",
              "      <td>0</td>\n",
              "      <td>0</td>\n",
              "      <td>0</td>\n",
              "      <td>0</td>\n",
              "      <td>0</td>\n",
              "      <td>0</td>\n",
              "      <td>1</td>\n",
              "      <td>0</td>\n",
              "      <td>0</td>\n",
              "      <td>...</td>\n",
              "      <td>0</td>\n",
              "      <td>0</td>\n",
              "      <td>0</td>\n",
              "      <td>0</td>\n",
              "      <td>0</td>\n",
              "      <td>0</td>\n",
              "      <td>0</td>\n",
              "      <td>0</td>\n",
              "      <td>1</td>\n",
              "      <td>0</td>\n",
              "    </tr>\n",
              "    <tr>\n",
              "      <th>2</th>\n",
              "      <td>0</td>\n",
              "      <td>0</td>\n",
              "      <td>0</td>\n",
              "      <td>0</td>\n",
              "      <td>0</td>\n",
              "      <td>0</td>\n",
              "      <td>0</td>\n",
              "      <td>0</td>\n",
              "      <td>0</td>\n",
              "      <td>0</td>\n",
              "      <td>...</td>\n",
              "      <td>0</td>\n",
              "      <td>0</td>\n",
              "      <td>0</td>\n",
              "      <td>0</td>\n",
              "      <td>0</td>\n",
              "      <td>0</td>\n",
              "      <td>1</td>\n",
              "      <td>0</td>\n",
              "      <td>0</td>\n",
              "      <td>0</td>\n",
              "    </tr>\n",
              "    <tr>\n",
              "      <th>3</th>\n",
              "      <td>0</td>\n",
              "      <td>0</td>\n",
              "      <td>0</td>\n",
              "      <td>1</td>\n",
              "      <td>0</td>\n",
              "      <td>0</td>\n",
              "      <td>0</td>\n",
              "      <td>0</td>\n",
              "      <td>0</td>\n",
              "      <td>0</td>\n",
              "      <td>...</td>\n",
              "      <td>0</td>\n",
              "      <td>0</td>\n",
              "      <td>1</td>\n",
              "      <td>1</td>\n",
              "      <td>0</td>\n",
              "      <td>0</td>\n",
              "      <td>1</td>\n",
              "      <td>0</td>\n",
              "      <td>0</td>\n",
              "      <td>0</td>\n",
              "    </tr>\n",
              "    <tr>\n",
              "      <th>4</th>\n",
              "      <td>0</td>\n",
              "      <td>0</td>\n",
              "      <td>0</td>\n",
              "      <td>0</td>\n",
              "      <td>0</td>\n",
              "      <td>0</td>\n",
              "      <td>1</td>\n",
              "      <td>0</td>\n",
              "      <td>0</td>\n",
              "      <td>0</td>\n",
              "      <td>...</td>\n",
              "      <td>0</td>\n",
              "      <td>0</td>\n",
              "      <td>0</td>\n",
              "      <td>0</td>\n",
              "      <td>0</td>\n",
              "      <td>0</td>\n",
              "      <td>0</td>\n",
              "      <td>0</td>\n",
              "      <td>0</td>\n",
              "      <td>1</td>\n",
              "    </tr>\n",
              "  </tbody>\n",
              "</table>\n",
              "<p>5 rows × 27 columns</p>\n",
              "</div>"
            ],
            "text/plain": [
              "   about  after  and  be  before  between  can  do  for  have  ...  or  \\\n",
              "0      0      0    0   0       0        0    0   1    0     1  ...   0   \n",
              "1      0      0    0   0       0        0    0   1    0     0  ...   0   \n",
              "2      0      0    0   0       0        0    0   0    0     0  ...   0   \n",
              "3      0      0    0   1       0        0    0   0    0     0  ...   0   \n",
              "4      0      0    0   0       0        0    1   0    0     0  ...   0   \n",
              "\n",
              "   should  some  the  this  to  what  where  who  with  \n",
              "0       0     0    0     0   1     1      0    0     0  \n",
              "1       0     0    0     0   0     0      0    1     0  \n",
              "2       0     0    0     0   0     1      0    0     0  \n",
              "3       0     1    1     0   0     1      0    0     0  \n",
              "4       0     0    0     0   0     0      0    0     1  \n",
              "\n",
              "[5 rows x 27 columns]"
            ]
          },
          "execution_count": 18,
          "metadata": {},
          "output_type": "execute_result"
        }
      ],
      "source": [
        "# returns all the unique word from data \n",
        "\n",
        "features = cv.get_feature_names_out()\n",
        "df_bow = pd.DataFrame(X, columns = features)\n",
        "df_bow.head()"
      ]
    },
    {
      "cell_type": "code",
      "execution_count": 19,
      "metadata": {
        "id": "CMh7mfw0PH1q"
      },
      "outputs": [],
      "source": [
        "Question = 'What treatment options are available'                           # example"
      ]
    },
    {
      "cell_type": "code",
      "execution_count": 20,
      "metadata": {
        "id": "ErwQk4Jf4iSY"
      },
      "outputs": [],
      "source": [
        "Question_lemma = text_normalization(Question)                               # clean text\n",
        "Question_bow = cv.transform([Question_lemma]).toarray()                     # applying bow"
      ]
    },
    {
      "cell_type": "markdown",
      "metadata": {
        "id": "ZshENmwyV9I9"
      },
      "source": [
        "# Cosine similarity"
      ]
    },
    {
      "cell_type": "code",
      "execution_count": 21,
      "metadata": {
        "colab": {
          "base_uri": "https://localhost:8080/"
        },
        "id": "SWylluoYA6O0",
        "outputId": "d68d6d22-7971-4f83-8567-6ff231a8ccc7"
      },
      "outputs": [
        {
          "data": {
            "text/plain": [
              "array([[0.31622777],\n",
              "       [0.        ],\n",
              "       [0.70710678],\n",
              "       [0.5       ],\n",
              "       [0.        ],\n",
              "       [0.23570226],\n",
              "       [0.        ],\n",
              "       [1.        ],\n",
              "       [0.31622777],\n",
              "       [0.70710678],\n",
              "       [0.        ],\n",
              "       [0.31622777],\n",
              "       [0.        ],\n",
              "       [0.40824829],\n",
              "       [0.25      ],\n",
              "       [0.        ],\n",
              "       [0.        ],\n",
              "       [0.        ],\n",
              "       [0.70710678],\n",
              "       [0.        ]])"
            ]
          },
          "execution_count": 21,
          "metadata": {},
          "output_type": "execute_result"
        }
      ],
      "source": [
        "# cosine similarity for the above question we considered.\n",
        "\n",
        "cosine_value = 1- pairwise_distances(df_bow, Question_bow, metric = 'cosine' )\n",
        "(cosine_value)"
      ]
    },
    {
      "cell_type": "code",
      "execution_count": 22,
      "metadata": {
        "id": "9BlKaaezA8s_"
      },
      "outputs": [],
      "source": [
        "df['similarity_bow'] = cosine_value                                         # create cosine value as a new column"
      ]
    },
    {
      "cell_type": "code",
      "execution_count": 23,
      "metadata": {
        "colab": {
          "base_uri": "https://localhost:8080/",
          "height": 665
        },
        "id": "ja0_jD4iA_NW",
        "outputId": "4dcbb27b-2b02-4408-ed4a-5f6100e10acb"
      },
      "outputs": [
        {
          "data": {
            "text/html": [
              "<div>\n",
              "<style scoped>\n",
              "    .dataframe tbody tr th:only-of-type {\n",
              "        vertical-align: middle;\n",
              "    }\n",
              "\n",
              "    .dataframe tbody tr th {\n",
              "        vertical-align: top;\n",
              "    }\n",
              "\n",
              "    .dataframe thead th {\n",
              "        text-align: right;\n",
              "    }\n",
              "</style>\n",
              "<table border=\"1\" class=\"dataframe\">\n",
              "  <thead>\n",
              "    <tr style=\"text-align: right;\">\n",
              "      <th></th>\n",
              "      <th>Answers</th>\n",
              "      <th>similarity_bow</th>\n",
              "    </tr>\n",
              "  </thead>\n",
              "  <tbody>\n",
              "    <tr>\n",
              "      <th>0</th>\n",
              "      <td>Mental illnesses are health conditions that di...</td>\n",
              "      <td>0.316228</td>\n",
              "    </tr>\n",
              "    <tr>\n",
              "      <th>1</th>\n",
              "      <td>It is estimated that mental illness affects 1 ...</td>\n",
              "      <td>0.000000</td>\n",
              "    </tr>\n",
              "    <tr>\n",
              "      <th>2</th>\n",
              "      <td>It is estimated that mental illness affects 1 ...</td>\n",
              "      <td>0.707107</td>\n",
              "    </tr>\n",
              "    <tr>\n",
              "      <th>3</th>\n",
              "      <td>Symptoms of mental health disorders vary depen...</td>\n",
              "      <td>0.500000</td>\n",
              "    </tr>\n",
              "    <tr>\n",
              "      <th>4</th>\n",
              "      <td>When healing from mental illness, early identi...</td>\n",
              "      <td>0.000000</td>\n",
              "    </tr>\n",
              "    <tr>\n",
              "      <th>5</th>\n",
              "      <td>Although this website cannot substitute for pr...</td>\n",
              "      <td>0.235702</td>\n",
              "    </tr>\n",
              "    <tr>\n",
              "      <th>6</th>\n",
              "      <td>Feeling comfortable with the professional you ...</td>\n",
              "      <td>0.000000</td>\n",
              "    </tr>\n",
              "    <tr>\n",
              "      <th>7</th>\n",
              "      <td>Just as there are different types of medicatio...</td>\n",
              "      <td>1.000000</td>\n",
              "    </tr>\n",
              "    <tr>\n",
              "      <th>8</th>\n",
              "      <td>Since beginning treatment is a big step for in...</td>\n",
              "      <td>0.316228</td>\n",
              "    </tr>\n",
              "    <tr>\n",
              "      <th>9</th>\n",
              "      <td>There are many types of mental health professi...</td>\n",
              "      <td>0.707107</td>\n",
              "    </tr>\n",
              "    <tr>\n",
              "      <th>10</th>\n",
              "      <td>Feeling comfortable with the professional you ...</td>\n",
              "      <td>0.000000</td>\n",
              "    </tr>\n",
              "    <tr>\n",
              "      <th>11</th>\n",
              "      <td>Beginning treatment is a big step for individu...</td>\n",
              "      <td>0.316228</td>\n",
              "    </tr>\n",
              "    <tr>\n",
              "      <th>12</th>\n",
              "      <td>Where you go for help will depend on the natur...</td>\n",
              "      <td>0.000000</td>\n",
              "    </tr>\n",
              "    <tr>\n",
              "      <th>13</th>\n",
              "      <td>The best source of information regarding medic...</td>\n",
              "      <td>0.408248</td>\n",
              "    </tr>\n",
              "    <tr>\n",
              "      <th>14</th>\n",
              "      <td>It is not uncommon for people to stop taking t...</td>\n",
              "      <td>0.250000</td>\n",
              "    </tr>\n",
              "    <tr>\n",
              "      <th>15</th>\n",
              "      <td>Some pharmaceutical companies offer prescripti...</td>\n",
              "      <td>0.000000</td>\n",
              "    </tr>\n",
              "    <tr>\n",
              "      <th>16</th>\n",
              "      <td>Different kinds of therapy are more effective ...</td>\n",
              "      <td>0.000000</td>\n",
              "    </tr>\n",
              "    <tr>\n",
              "      <th>17</th>\n",
              "      <td>Mental health conditions are often treated wit...</td>\n",
              "      <td>0.000000</td>\n",
              "    </tr>\n",
              "    <tr>\n",
              "      <th>18</th>\n",
              "      <td>There are many types of mental health professi...</td>\n",
              "      <td>0.707107</td>\n",
              "    </tr>\n",
              "    <tr>\n",
              "      <th>19</th>\n",
              "      <td>Many people find peer support a helpful tool t...</td>\n",
              "      <td>0.000000</td>\n",
              "    </tr>\n",
              "  </tbody>\n",
              "</table>\n",
              "</div>"
            ],
            "text/plain": [
              "                                              Answers  similarity_bow\n",
              "0   Mental illnesses are health conditions that di...        0.316228\n",
              "1   It is estimated that mental illness affects 1 ...        0.000000\n",
              "2   It is estimated that mental illness affects 1 ...        0.707107\n",
              "3   Symptoms of mental health disorders vary depen...        0.500000\n",
              "4   When healing from mental illness, early identi...        0.000000\n",
              "5   Although this website cannot substitute for pr...        0.235702\n",
              "6   Feeling comfortable with the professional you ...        0.000000\n",
              "7   Just as there are different types of medicatio...        1.000000\n",
              "8   Since beginning treatment is a big step for in...        0.316228\n",
              "9   There are many types of mental health professi...        0.707107\n",
              "10  Feeling comfortable with the professional you ...        0.000000\n",
              "11  Beginning treatment is a big step for individu...        0.316228\n",
              "12  Where you go for help will depend on the natur...        0.000000\n",
              "13  The best source of information regarding medic...        0.408248\n",
              "14  It is not uncommon for people to stop taking t...        0.250000\n",
              "15  Some pharmaceutical companies offer prescripti...        0.000000\n",
              "16  Different kinds of therapy are more effective ...        0.000000\n",
              "17  Mental health conditions are often treated wit...        0.000000\n",
              "18  There are many types of mental health professi...        0.707107\n",
              "19  Many people find peer support a helpful tool t...        0.000000"
            ]
          },
          "execution_count": 23,
          "metadata": {},
          "output_type": "execute_result"
        }
      ],
      "source": [
        "simiscores = pd.DataFrame(df, columns=['Answers','similarity_bow'])         # taking similarity value of responses for the question we took\n",
        "simiscores"
      ]
    },
    {
      "cell_type": "code",
      "execution_count": 24,
      "metadata": {
        "colab": {
          "base_uri": "https://localhost:8080/",
          "height": 203
        },
        "id": "8NwdGoDGBRwi",
        "outputId": "7387fc5a-ec4a-4bd1-d35a-4cae4b3893a1"
      },
      "outputs": [
        {
          "data": {
            "text/html": [
              "<div>\n",
              "<style scoped>\n",
              "    .dataframe tbody tr th:only-of-type {\n",
              "        vertical-align: middle;\n",
              "    }\n",
              "\n",
              "    .dataframe tbody tr th {\n",
              "        vertical-align: top;\n",
              "    }\n",
              "\n",
              "    .dataframe thead th {\n",
              "        text-align: right;\n",
              "    }\n",
              "</style>\n",
              "<table border=\"1\" class=\"dataframe\">\n",
              "  <thead>\n",
              "    <tr style=\"text-align: right;\">\n",
              "      <th></th>\n",
              "      <th>Answers</th>\n",
              "      <th>similarity_bow</th>\n",
              "    </tr>\n",
              "  </thead>\n",
              "  <tbody>\n",
              "    <tr>\n",
              "      <th>7</th>\n",
              "      <td>Just as there are different types of medicatio...</td>\n",
              "      <td>1.000000</td>\n",
              "    </tr>\n",
              "    <tr>\n",
              "      <th>2</th>\n",
              "      <td>It is estimated that mental illness affects 1 ...</td>\n",
              "      <td>0.707107</td>\n",
              "    </tr>\n",
              "    <tr>\n",
              "      <th>18</th>\n",
              "      <td>There are many types of mental health professi...</td>\n",
              "      <td>0.707107</td>\n",
              "    </tr>\n",
              "    <tr>\n",
              "      <th>9</th>\n",
              "      <td>There are many types of mental health professi...</td>\n",
              "      <td>0.707107</td>\n",
              "    </tr>\n",
              "    <tr>\n",
              "      <th>3</th>\n",
              "      <td>Symptoms of mental health disorders vary depen...</td>\n",
              "      <td>0.500000</td>\n",
              "    </tr>\n",
              "  </tbody>\n",
              "</table>\n",
              "</div>"
            ],
            "text/plain": [
              "                                              Answers  similarity_bow\n",
              "7   Just as there are different types of medicatio...        1.000000\n",
              "2   It is estimated that mental illness affects 1 ...        0.707107\n",
              "18  There are many types of mental health professi...        0.707107\n",
              "9   There are many types of mental health professi...        0.707107\n",
              "3   Symptoms of mental health disorders vary depen...        0.500000"
            ]
          },
          "execution_count": 24,
          "metadata": {},
          "output_type": "execute_result"
        }
      ],
      "source": [
        "simscoresDescending = simiscores.sort_values(by = 'similarity_bow', ascending=False)          # sorting the values\n",
        "simscoresDescending.head()"
      ]
    },
    {
      "cell_type": "code",
      "execution_count": 25,
      "metadata": {
        "colab": {
          "base_uri": "https://localhost:8080/",
          "height": 357
        },
        "id": "Yt6jgDc5BY-m",
        "outputId": "77d5bb00-be7f-4673-dc65-4a16ab96fe24"
      },
      "outputs": [
        {
          "data": {
            "text/html": [
              "<div>\n",
              "<style scoped>\n",
              "    .dataframe tbody tr th:only-of-type {\n",
              "        vertical-align: middle;\n",
              "    }\n",
              "\n",
              "    .dataframe tbody tr th {\n",
              "        vertical-align: top;\n",
              "    }\n",
              "\n",
              "    .dataframe thead th {\n",
              "        text-align: right;\n",
              "    }\n",
              "</style>\n",
              "<table border=\"1\" class=\"dataframe\">\n",
              "  <thead>\n",
              "    <tr style=\"text-align: right;\">\n",
              "      <th></th>\n",
              "      <th>Answers</th>\n",
              "      <th>similarity_bow</th>\n",
              "    </tr>\n",
              "  </thead>\n",
              "  <tbody>\n",
              "    <tr>\n",
              "      <th>7</th>\n",
              "      <td>Just as there are different types of medicatio...</td>\n",
              "      <td>1.000000</td>\n",
              "    </tr>\n",
              "    <tr>\n",
              "      <th>2</th>\n",
              "      <td>It is estimated that mental illness affects 1 ...</td>\n",
              "      <td>0.707107</td>\n",
              "    </tr>\n",
              "    <tr>\n",
              "      <th>18</th>\n",
              "      <td>There are many types of mental health professi...</td>\n",
              "      <td>0.707107</td>\n",
              "    </tr>\n",
              "    <tr>\n",
              "      <th>9</th>\n",
              "      <td>There are many types of mental health professi...</td>\n",
              "      <td>0.707107</td>\n",
              "    </tr>\n",
              "    <tr>\n",
              "      <th>3</th>\n",
              "      <td>Symptoms of mental health disorders vary depen...</td>\n",
              "      <td>0.500000</td>\n",
              "    </tr>\n",
              "    <tr>\n",
              "      <th>13</th>\n",
              "      <td>The best source of information regarding medic...</td>\n",
              "      <td>0.408248</td>\n",
              "    </tr>\n",
              "    <tr>\n",
              "      <th>0</th>\n",
              "      <td>Mental illnesses are health conditions that di...</td>\n",
              "      <td>0.316228</td>\n",
              "    </tr>\n",
              "    <tr>\n",
              "      <th>8</th>\n",
              "      <td>Since beginning treatment is a big step for in...</td>\n",
              "      <td>0.316228</td>\n",
              "    </tr>\n",
              "    <tr>\n",
              "      <th>11</th>\n",
              "      <td>Beginning treatment is a big step for individu...</td>\n",
              "      <td>0.316228</td>\n",
              "    </tr>\n",
              "    <tr>\n",
              "      <th>14</th>\n",
              "      <td>It is not uncommon for people to stop taking t...</td>\n",
              "      <td>0.250000</td>\n",
              "    </tr>\n",
              "    <tr>\n",
              "      <th>5</th>\n",
              "      <td>Although this website cannot substitute for pr...</td>\n",
              "      <td>0.235702</td>\n",
              "    </tr>\n",
              "  </tbody>\n",
              "</table>\n",
              "</div>"
            ],
            "text/plain": [
              "                                              Answers  similarity_bow\n",
              "7   Just as there are different types of medicatio...        1.000000\n",
              "2   It is estimated that mental illness affects 1 ...        0.707107\n",
              "18  There are many types of mental health professi...        0.707107\n",
              "9   There are many types of mental health professi...        0.707107\n",
              "3   Symptoms of mental health disorders vary depen...        0.500000\n",
              "13  The best source of information regarding medic...        0.408248\n",
              "0   Mental illnesses are health conditions that di...        0.316228\n",
              "8   Since beginning treatment is a big step for in...        0.316228\n",
              "11  Beginning treatment is a big step for individu...        0.316228\n",
              "14  It is not uncommon for people to stop taking t...        0.250000\n",
              "5   Although this website cannot substitute for pr...        0.235702"
            ]
          },
          "execution_count": 25,
          "metadata": {},
          "output_type": "execute_result"
        }
      ],
      "source": [
        "threshold = 0.1                                                                         # considering the value of smiliarity to be greater than 0.1\n",
        "df_threshold = simscoresDescending[simscoresDescending['similarity_bow'] > threshold] \n",
        "df_threshold"
      ]
    },
    {
      "cell_type": "code",
      "execution_count": 26,
      "metadata": {
        "colab": {
          "base_uri": "https://localhost:8080/"
        },
        "id": "uFgAg8EnBkey",
        "outputId": "8f5764b0-3f9b-4bfe-b684-00dd6407d159"
      },
      "outputs": [
        {
          "data": {
            "text/plain": [
              "7"
            ]
          },
          "execution_count": 26,
          "metadata": {},
          "output_type": "execute_result"
        }
      ],
      "source": [
        "index_value = cosine_value.argmax()         # index number of highest value\n",
        "index_value"
      ]
    },
    {
      "cell_type": "code",
      "execution_count": 27,
      "metadata": {
        "colab": {
          "base_uri": "https://localhost:8080/",
          "height": 36
        },
        "id": "IcCqWPu7Bn8I",
        "outputId": "58e18516-71cf-48b7-9120-29ef19669bc0"
      },
      "outputs": [
        {
          "data": {
            "text/plain": [
              "'Just as there are different types of medications for physical illness, different treatment options are available for individuals with mental illness. Treatment works differently for different people. It is important to find what works best for you or your child.'"
            ]
          },
          "execution_count": 27,
          "metadata": {},
          "output_type": "execute_result"
        }
      ],
      "source": [
        "df['Answers'].loc[index_value]              # The text at the above index becomes the response for the question"
      ]
    },
    {
      "cell_type": "markdown",
      "metadata": {
        "id": "wG7sF9MaWD27"
      },
      "source": [
        "# Tf-Idf"
      ]
    },
    {
      "cell_type": "code",
      "execution_count": 28,
      "metadata": {
        "id": "O3WMQ7YBByib"
      },
      "outputs": [],
      "source": [
        "Question1 = 'What treatment options are available'"
      ]
    },
    {
      "cell_type": "code",
      "execution_count": 29,
      "metadata": {
        "id": "yxGhvUqsB96d"
      },
      "outputs": [],
      "source": [
        "# using tf-idf\n",
        "\n",
        "tfidf = TfidfVectorizer()                                             # intializing tf-id \n",
        "x_tfidf = tfidf.fit_transform(df['lemmatized_text']).toarray()        # transforming the data into array"
      ]
    },
    {
      "cell_type": "code",
      "execution_count": 30,
      "metadata": {
        "id": "Njbou1tyCAVm"
      },
      "outputs": [],
      "source": [
        "Question_lemma1 = text_normalization(Question1)\n",
        "Question_tfidf = tfidf.transform([Question_lemma1]).toarray()         # applying tf-idf"
      ]
    },
    {
      "cell_type": "code",
      "execution_count": 31,
      "metadata": {
        "colab": {
          "base_uri": "https://localhost:8080/",
          "height": 223
        },
        "id": "10YovQFdCJ1h",
        "outputId": "adf1fd58-a2dc-45ff-8b6f-2f2d7a0c5e75"
      },
      "outputs": [
        {
          "data": {
            "text/html": [
              "<div>\n",
              "<style scoped>\n",
              "    .dataframe tbody tr th:only-of-type {\n",
              "        vertical-align: middle;\n",
              "    }\n",
              "\n",
              "    .dataframe tbody tr th {\n",
              "        vertical-align: top;\n",
              "    }\n",
              "\n",
              "    .dataframe thead th {\n",
              "        text-align: right;\n",
              "    }\n",
              "</style>\n",
              "<table border=\"1\" class=\"dataframe\">\n",
              "  <thead>\n",
              "    <tr style=\"text-align: right;\">\n",
              "      <th></th>\n",
              "      <th>about</th>\n",
              "      <th>after</th>\n",
              "      <th>and</th>\n",
              "      <th>be</th>\n",
              "      <th>before</th>\n",
              "      <th>between</th>\n",
              "      <th>can</th>\n",
              "      <th>do</th>\n",
              "      <th>for</th>\n",
              "      <th>have</th>\n",
              "      <th>...</th>\n",
              "      <th>or</th>\n",
              "      <th>should</th>\n",
              "      <th>some</th>\n",
              "      <th>the</th>\n",
              "      <th>this</th>\n",
              "      <th>to</th>\n",
              "      <th>what</th>\n",
              "      <th>where</th>\n",
              "      <th>who</th>\n",
              "      <th>with</th>\n",
              "    </tr>\n",
              "  </thead>\n",
              "  <tbody>\n",
              "    <tr>\n",
              "      <th>0</th>\n",
              "      <td>0.0</td>\n",
              "      <td>0.0</td>\n",
              "      <td>0.0</td>\n",
              "      <td>0.000000</td>\n",
              "      <td>0.0</td>\n",
              "      <td>0.0</td>\n",
              "      <td>0.000000</td>\n",
              "      <td>0.390535</td>\n",
              "      <td>0.0</td>\n",
              "      <td>0.54821</td>\n",
              "      <td>...</td>\n",
              "      <td>0.0</td>\n",
              "      <td>0.0</td>\n",
              "      <td>0.000000</td>\n",
              "      <td>0.00000</td>\n",
              "      <td>0.0</td>\n",
              "      <td>0.390535</td>\n",
              "      <td>0.306424</td>\n",
              "      <td>0.0</td>\n",
              "      <td>0.000000</td>\n",
              "      <td>0.000000</td>\n",
              "    </tr>\n",
              "    <tr>\n",
              "      <th>1</th>\n",
              "      <td>0.0</td>\n",
              "      <td>0.0</td>\n",
              "      <td>0.0</td>\n",
              "      <td>0.000000</td>\n",
              "      <td>0.0</td>\n",
              "      <td>0.0</td>\n",
              "      <td>0.000000</td>\n",
              "      <td>0.580211</td>\n",
              "      <td>0.0</td>\n",
              "      <td>0.00000</td>\n",
              "      <td>...</td>\n",
              "      <td>0.0</td>\n",
              "      <td>0.0</td>\n",
              "      <td>0.000000</td>\n",
              "      <td>0.00000</td>\n",
              "      <td>0.0</td>\n",
              "      <td>0.000000</td>\n",
              "      <td>0.000000</td>\n",
              "      <td>0.0</td>\n",
              "      <td>0.814466</td>\n",
              "      <td>0.000000</td>\n",
              "    </tr>\n",
              "    <tr>\n",
              "      <th>2</th>\n",
              "      <td>0.0</td>\n",
              "      <td>0.0</td>\n",
              "      <td>0.0</td>\n",
              "      <td>0.000000</td>\n",
              "      <td>0.0</td>\n",
              "      <td>0.0</td>\n",
              "      <td>0.000000</td>\n",
              "      <td>0.000000</td>\n",
              "      <td>0.0</td>\n",
              "      <td>0.00000</td>\n",
              "      <td>...</td>\n",
              "      <td>0.0</td>\n",
              "      <td>0.0</td>\n",
              "      <td>0.000000</td>\n",
              "      <td>0.00000</td>\n",
              "      <td>0.0</td>\n",
              "      <td>0.000000</td>\n",
              "      <td>1.000000</td>\n",
              "      <td>0.0</td>\n",
              "      <td>0.000000</td>\n",
              "      <td>0.000000</td>\n",
              "    </tr>\n",
              "    <tr>\n",
              "      <th>3</th>\n",
              "      <td>0.0</td>\n",
              "      <td>0.0</td>\n",
              "      <td>0.0</td>\n",
              "      <td>0.322925</td>\n",
              "      <td>0.0</td>\n",
              "      <td>0.0</td>\n",
              "      <td>0.000000</td>\n",
              "      <td>0.000000</td>\n",
              "      <td>0.0</td>\n",
              "      <td>0.00000</td>\n",
              "      <td>...</td>\n",
              "      <td>0.0</td>\n",
              "      <td>0.0</td>\n",
              "      <td>0.480407</td>\n",
              "      <td>0.34906</td>\n",
              "      <td>0.0</td>\n",
              "      <td>0.000000</td>\n",
              "      <td>0.236038</td>\n",
              "      <td>0.0</td>\n",
              "      <td>0.000000</td>\n",
              "      <td>0.000000</td>\n",
              "    </tr>\n",
              "    <tr>\n",
              "      <th>4</th>\n",
              "      <td>0.0</td>\n",
              "      <td>0.0</td>\n",
              "      <td>0.0</td>\n",
              "      <td>0.000000</td>\n",
              "      <td>0.0</td>\n",
              "      <td>0.0</td>\n",
              "      <td>0.461191</td>\n",
              "      <td>0.000000</td>\n",
              "      <td>0.0</td>\n",
              "      <td>0.00000</td>\n",
              "      <td>...</td>\n",
              "      <td>0.0</td>\n",
              "      <td>0.0</td>\n",
              "      <td>0.000000</td>\n",
              "      <td>0.00000</td>\n",
              "      <td>0.0</td>\n",
              "      <td>0.000000</td>\n",
              "      <td>0.000000</td>\n",
              "      <td>0.0</td>\n",
              "      <td>0.000000</td>\n",
              "      <td>0.887301</td>\n",
              "    </tr>\n",
              "  </tbody>\n",
              "</table>\n",
              "<p>5 rows × 27 columns</p>\n",
              "</div>"
            ],
            "text/plain": [
              "   about  after  and        be  before  between       can        do  for  \\\n",
              "0    0.0    0.0  0.0  0.000000     0.0      0.0  0.000000  0.390535  0.0   \n",
              "1    0.0    0.0  0.0  0.000000     0.0      0.0  0.000000  0.580211  0.0   \n",
              "2    0.0    0.0  0.0  0.000000     0.0      0.0  0.000000  0.000000  0.0   \n",
              "3    0.0    0.0  0.0  0.322925     0.0      0.0  0.000000  0.000000  0.0   \n",
              "4    0.0    0.0  0.0  0.000000     0.0      0.0  0.461191  0.000000  0.0   \n",
              "\n",
              "      have  ...   or  should      some      the  this        to      what  \\\n",
              "0  0.54821  ...  0.0     0.0  0.000000  0.00000   0.0  0.390535  0.306424   \n",
              "1  0.00000  ...  0.0     0.0  0.000000  0.00000   0.0  0.000000  0.000000   \n",
              "2  0.00000  ...  0.0     0.0  0.000000  0.00000   0.0  0.000000  1.000000   \n",
              "3  0.00000  ...  0.0     0.0  0.480407  0.34906   0.0  0.000000  0.236038   \n",
              "4  0.00000  ...  0.0     0.0  0.000000  0.00000   0.0  0.000000  0.000000   \n",
              "\n",
              "   where       who      with  \n",
              "0    0.0  0.000000  0.000000  \n",
              "1    0.0  0.814466  0.000000  \n",
              "2    0.0  0.000000  0.000000  \n",
              "3    0.0  0.000000  0.000000  \n",
              "4    0.0  0.000000  0.887301  \n",
              "\n",
              "[5 rows x 27 columns]"
            ]
          },
          "execution_count": 31,
          "metadata": {},
          "output_type": "execute_result"
        }
      ],
      "source": [
        "# returns all the unique word from data with a score of that word\n",
        "\n",
        "df_tfidf = pd.DataFrame(x_tfidf,columns = tfidf.get_feature_names_out()) \n",
        "df_tfidf.head()"
      ]
    },
    {
      "cell_type": "code",
      "execution_count": 32,
      "metadata": {
        "colab": {
          "base_uri": "https://localhost:8080/"
        },
        "id": "IEAPLV2mCWAY",
        "outputId": "cb74e6eb-7c00-4afd-e571-a191c13bfe72"
      },
      "outputs": [
        {
          "data": {
            "text/plain": [
              "array([[0.18082234],\n",
              "       [0.        ],\n",
              "       [0.59010473],\n",
              "       [0.39999298],\n",
              "       [0.        ],\n",
              "       [0.13061405],\n",
              "       [0.        ],\n",
              "       [1.        ],\n",
              "       [0.19009616],\n",
              "       [0.55866459],\n",
              "       [0.        ],\n",
              "       [0.19009616],\n",
              "       [0.        ],\n",
              "       [0.20429786],\n",
              "       [0.23321347],\n",
              "       [0.        ],\n",
              "       [0.        ],\n",
              "       [0.        ],\n",
              "       [0.62955486],\n",
              "       [0.        ]])"
            ]
          },
          "execution_count": 32,
          "metadata": {},
          "output_type": "execute_result"
        }
      ],
      "source": [
        "cos = 1-pairwise_distances(df_tfidf,Question_tfidf,metric='cosine')                     # applying cosine similarity\n",
        "cos"
      ]
    },
    {
      "cell_type": "code",
      "execution_count": 33,
      "metadata": {
        "colab": {
          "base_uri": "https://localhost:8080/",
          "height": 665
        },
        "id": "5saQViVjCXng",
        "outputId": "94e722f4-7084-480e-a4ae-6b3f0f8ae340"
      },
      "outputs": [
        {
          "data": {
            "text/html": [
              "<div>\n",
              "<style scoped>\n",
              "    .dataframe tbody tr th:only-of-type {\n",
              "        vertical-align: middle;\n",
              "    }\n",
              "\n",
              "    .dataframe tbody tr th {\n",
              "        vertical-align: top;\n",
              "    }\n",
              "\n",
              "    .dataframe thead th {\n",
              "        text-align: right;\n",
              "    }\n",
              "</style>\n",
              "<table border=\"1\" class=\"dataframe\">\n",
              "  <thead>\n",
              "    <tr style=\"text-align: right;\">\n",
              "      <th></th>\n",
              "      <th>Answers</th>\n",
              "      <th>similarity_tfidf</th>\n",
              "    </tr>\n",
              "  </thead>\n",
              "  <tbody>\n",
              "    <tr>\n",
              "      <th>0</th>\n",
              "      <td>Mental illnesses are health conditions that di...</td>\n",
              "      <td>0.180822</td>\n",
              "    </tr>\n",
              "    <tr>\n",
              "      <th>1</th>\n",
              "      <td>It is estimated that mental illness affects 1 ...</td>\n",
              "      <td>0.000000</td>\n",
              "    </tr>\n",
              "    <tr>\n",
              "      <th>2</th>\n",
              "      <td>It is estimated that mental illness affects 1 ...</td>\n",
              "      <td>0.590105</td>\n",
              "    </tr>\n",
              "    <tr>\n",
              "      <th>3</th>\n",
              "      <td>Symptoms of mental health disorders vary depen...</td>\n",
              "      <td>0.399993</td>\n",
              "    </tr>\n",
              "    <tr>\n",
              "      <th>4</th>\n",
              "      <td>When healing from mental illness, early identi...</td>\n",
              "      <td>0.000000</td>\n",
              "    </tr>\n",
              "    <tr>\n",
              "      <th>5</th>\n",
              "      <td>Although this website cannot substitute for pr...</td>\n",
              "      <td>0.130614</td>\n",
              "    </tr>\n",
              "    <tr>\n",
              "      <th>6</th>\n",
              "      <td>Feeling comfortable with the professional you ...</td>\n",
              "      <td>0.000000</td>\n",
              "    </tr>\n",
              "    <tr>\n",
              "      <th>7</th>\n",
              "      <td>Just as there are different types of medicatio...</td>\n",
              "      <td>1.000000</td>\n",
              "    </tr>\n",
              "    <tr>\n",
              "      <th>8</th>\n",
              "      <td>Since beginning treatment is a big step for in...</td>\n",
              "      <td>0.190096</td>\n",
              "    </tr>\n",
              "    <tr>\n",
              "      <th>9</th>\n",
              "      <td>There are many types of mental health professi...</td>\n",
              "      <td>0.558665</td>\n",
              "    </tr>\n",
              "    <tr>\n",
              "      <th>10</th>\n",
              "      <td>Feeling comfortable with the professional you ...</td>\n",
              "      <td>0.000000</td>\n",
              "    </tr>\n",
              "    <tr>\n",
              "      <th>11</th>\n",
              "      <td>Beginning treatment is a big step for individu...</td>\n",
              "      <td>0.190096</td>\n",
              "    </tr>\n",
              "    <tr>\n",
              "      <th>12</th>\n",
              "      <td>Where you go for help will depend on the natur...</td>\n",
              "      <td>0.000000</td>\n",
              "    </tr>\n",
              "    <tr>\n",
              "      <th>13</th>\n",
              "      <td>The best source of information regarding medic...</td>\n",
              "      <td>0.204298</td>\n",
              "    </tr>\n",
              "    <tr>\n",
              "      <th>14</th>\n",
              "      <td>It is not uncommon for people to stop taking t...</td>\n",
              "      <td>0.233213</td>\n",
              "    </tr>\n",
              "    <tr>\n",
              "      <th>15</th>\n",
              "      <td>Some pharmaceutical companies offer prescripti...</td>\n",
              "      <td>0.000000</td>\n",
              "    </tr>\n",
              "    <tr>\n",
              "      <th>16</th>\n",
              "      <td>Different kinds of therapy are more effective ...</td>\n",
              "      <td>0.000000</td>\n",
              "    </tr>\n",
              "    <tr>\n",
              "      <th>17</th>\n",
              "      <td>Mental health conditions are often treated wit...</td>\n",
              "      <td>0.000000</td>\n",
              "    </tr>\n",
              "    <tr>\n",
              "      <th>18</th>\n",
              "      <td>There are many types of mental health professi...</td>\n",
              "      <td>0.629555</td>\n",
              "    </tr>\n",
              "    <tr>\n",
              "      <th>19</th>\n",
              "      <td>Many people find peer support a helpful tool t...</td>\n",
              "      <td>0.000000</td>\n",
              "    </tr>\n",
              "  </tbody>\n",
              "</table>\n",
              "</div>"
            ],
            "text/plain": [
              "                                              Answers  similarity_tfidf\n",
              "0   Mental illnesses are health conditions that di...          0.180822\n",
              "1   It is estimated that mental illness affects 1 ...          0.000000\n",
              "2   It is estimated that mental illness affects 1 ...          0.590105\n",
              "3   Symptoms of mental health disorders vary depen...          0.399993\n",
              "4   When healing from mental illness, early identi...          0.000000\n",
              "5   Although this website cannot substitute for pr...          0.130614\n",
              "6   Feeling comfortable with the professional you ...          0.000000\n",
              "7   Just as there are different types of medicatio...          1.000000\n",
              "8   Since beginning treatment is a big step for in...          0.190096\n",
              "9   There are many types of mental health professi...          0.558665\n",
              "10  Feeling comfortable with the professional you ...          0.000000\n",
              "11  Beginning treatment is a big step for individu...          0.190096\n",
              "12  Where you go for help will depend on the natur...          0.000000\n",
              "13  The best source of information regarding medic...          0.204298\n",
              "14  It is not uncommon for people to stop taking t...          0.233213\n",
              "15  Some pharmaceutical companies offer prescripti...          0.000000\n",
              "16  Different kinds of therapy are more effective ...          0.000000\n",
              "17  Mental health conditions are often treated wit...          0.000000\n",
              "18  There are many types of mental health professi...          0.629555\n",
              "19  Many people find peer support a helpful tool t...          0.000000"
            ]
          },
          "execution_count": 33,
          "metadata": {},
          "output_type": "execute_result"
        }
      ],
      "source": [
        "df['similarity_tfidf'] = cos                                                    # creating a new column \n",
        "df_simi_tfidf = pd.DataFrame(df, columns=['Answers','similarity_tfidf'])        # taking similarity value of responses for the question we took\n",
        "df_simi_tfidf"
      ]
    },
    {
      "cell_type": "code",
      "execution_count": 34,
      "metadata": {
        "colab": {
          "base_uri": "https://localhost:8080/",
          "height": 357
        },
        "id": "f1rs3m98CfR9",
        "outputId": "13c7b88e-ffbf-4095-8e5a-7a5a768400d5"
      },
      "outputs": [
        {
          "data": {
            "text/html": [
              "<div>\n",
              "<style scoped>\n",
              "    .dataframe tbody tr th:only-of-type {\n",
              "        vertical-align: middle;\n",
              "    }\n",
              "\n",
              "    .dataframe tbody tr th {\n",
              "        vertical-align: top;\n",
              "    }\n",
              "\n",
              "    .dataframe thead th {\n",
              "        text-align: right;\n",
              "    }\n",
              "</style>\n",
              "<table border=\"1\" class=\"dataframe\">\n",
              "  <thead>\n",
              "    <tr style=\"text-align: right;\">\n",
              "      <th></th>\n",
              "      <th>Answers</th>\n",
              "      <th>similarity_tfidf</th>\n",
              "    </tr>\n",
              "  </thead>\n",
              "  <tbody>\n",
              "    <tr>\n",
              "      <th>7</th>\n",
              "      <td>Just as there are different types of medicatio...</td>\n",
              "      <td>1.000000</td>\n",
              "    </tr>\n",
              "    <tr>\n",
              "      <th>18</th>\n",
              "      <td>There are many types of mental health professi...</td>\n",
              "      <td>0.629555</td>\n",
              "    </tr>\n",
              "    <tr>\n",
              "      <th>2</th>\n",
              "      <td>It is estimated that mental illness affects 1 ...</td>\n",
              "      <td>0.590105</td>\n",
              "    </tr>\n",
              "    <tr>\n",
              "      <th>9</th>\n",
              "      <td>There are many types of mental health professi...</td>\n",
              "      <td>0.558665</td>\n",
              "    </tr>\n",
              "    <tr>\n",
              "      <th>3</th>\n",
              "      <td>Symptoms of mental health disorders vary depen...</td>\n",
              "      <td>0.399993</td>\n",
              "    </tr>\n",
              "    <tr>\n",
              "      <th>14</th>\n",
              "      <td>It is not uncommon for people to stop taking t...</td>\n",
              "      <td>0.233213</td>\n",
              "    </tr>\n",
              "    <tr>\n",
              "      <th>13</th>\n",
              "      <td>The best source of information regarding medic...</td>\n",
              "      <td>0.204298</td>\n",
              "    </tr>\n",
              "    <tr>\n",
              "      <th>8</th>\n",
              "      <td>Since beginning treatment is a big step for in...</td>\n",
              "      <td>0.190096</td>\n",
              "    </tr>\n",
              "    <tr>\n",
              "      <th>11</th>\n",
              "      <td>Beginning treatment is a big step for individu...</td>\n",
              "      <td>0.190096</td>\n",
              "    </tr>\n",
              "    <tr>\n",
              "      <th>0</th>\n",
              "      <td>Mental illnesses are health conditions that di...</td>\n",
              "      <td>0.180822</td>\n",
              "    </tr>\n",
              "  </tbody>\n",
              "</table>\n",
              "</div>"
            ],
            "text/plain": [
              "                                              Answers  similarity_tfidf\n",
              "7   Just as there are different types of medicatio...          1.000000\n",
              "18  There are many types of mental health professi...          0.629555\n",
              "2   It is estimated that mental illness affects 1 ...          0.590105\n",
              "9   There are many types of mental health professi...          0.558665\n",
              "3   Symptoms of mental health disorders vary depen...          0.399993\n",
              "14  It is not uncommon for people to stop taking t...          0.233213\n",
              "13  The best source of information regarding medic...          0.204298\n",
              "8   Since beginning treatment is a big step for in...          0.190096\n",
              "11  Beginning treatment is a big step for individu...          0.190096\n",
              "0   Mental illnesses are health conditions that di...          0.180822"
            ]
          },
          "execution_count": 34,
          "metadata": {},
          "output_type": "execute_result"
        }
      ],
      "source": [
        "df_simi_tfidf_sort = df_simi_tfidf.sort_values(by='similarity_tfidf', ascending=False)            # sorting the values\n",
        "df_simi_tfidf_sort.head(10)"
      ]
    },
    {
      "cell_type": "code",
      "execution_count": 35,
      "metadata": {
        "colab": {
          "base_uri": "https://localhost:8080/",
          "height": 357
        },
        "id": "Bc3fzoRqCjYC",
        "outputId": "aae31ced-faf3-40e1-fc9a-9ed44db0dc59"
      },
      "outputs": [
        {
          "data": {
            "text/html": [
              "<div>\n",
              "<style scoped>\n",
              "    .dataframe tbody tr th:only-of-type {\n",
              "        vertical-align: middle;\n",
              "    }\n",
              "\n",
              "    .dataframe tbody tr th {\n",
              "        vertical-align: top;\n",
              "    }\n",
              "\n",
              "    .dataframe thead th {\n",
              "        text-align: right;\n",
              "    }\n",
              "</style>\n",
              "<table border=\"1\" class=\"dataframe\">\n",
              "  <thead>\n",
              "    <tr style=\"text-align: right;\">\n",
              "      <th></th>\n",
              "      <th>Answers</th>\n",
              "      <th>similarity_tfidf</th>\n",
              "    </tr>\n",
              "  </thead>\n",
              "  <tbody>\n",
              "    <tr>\n",
              "      <th>7</th>\n",
              "      <td>Just as there are different types of medicatio...</td>\n",
              "      <td>1.000000</td>\n",
              "    </tr>\n",
              "    <tr>\n",
              "      <th>18</th>\n",
              "      <td>There are many types of mental health professi...</td>\n",
              "      <td>0.629555</td>\n",
              "    </tr>\n",
              "    <tr>\n",
              "      <th>2</th>\n",
              "      <td>It is estimated that mental illness affects 1 ...</td>\n",
              "      <td>0.590105</td>\n",
              "    </tr>\n",
              "    <tr>\n",
              "      <th>9</th>\n",
              "      <td>There are many types of mental health professi...</td>\n",
              "      <td>0.558665</td>\n",
              "    </tr>\n",
              "    <tr>\n",
              "      <th>3</th>\n",
              "      <td>Symptoms of mental health disorders vary depen...</td>\n",
              "      <td>0.399993</td>\n",
              "    </tr>\n",
              "    <tr>\n",
              "      <th>14</th>\n",
              "      <td>It is not uncommon for people to stop taking t...</td>\n",
              "      <td>0.233213</td>\n",
              "    </tr>\n",
              "    <tr>\n",
              "      <th>13</th>\n",
              "      <td>The best source of information regarding medic...</td>\n",
              "      <td>0.204298</td>\n",
              "    </tr>\n",
              "    <tr>\n",
              "      <th>8</th>\n",
              "      <td>Since beginning treatment is a big step for in...</td>\n",
              "      <td>0.190096</td>\n",
              "    </tr>\n",
              "    <tr>\n",
              "      <th>11</th>\n",
              "      <td>Beginning treatment is a big step for individu...</td>\n",
              "      <td>0.190096</td>\n",
              "    </tr>\n",
              "    <tr>\n",
              "      <th>0</th>\n",
              "      <td>Mental illnesses are health conditions that di...</td>\n",
              "      <td>0.180822</td>\n",
              "    </tr>\n",
              "    <tr>\n",
              "      <th>5</th>\n",
              "      <td>Although this website cannot substitute for pr...</td>\n",
              "      <td>0.130614</td>\n",
              "    </tr>\n",
              "  </tbody>\n",
              "</table>\n",
              "</div>"
            ],
            "text/plain": [
              "                                              Answers  similarity_tfidf\n",
              "7   Just as there are different types of medicatio...          1.000000\n",
              "18  There are many types of mental health professi...          0.629555\n",
              "2   It is estimated that mental illness affects 1 ...          0.590105\n",
              "9   There are many types of mental health professi...          0.558665\n",
              "3   Symptoms of mental health disorders vary depen...          0.399993\n",
              "14  It is not uncommon for people to stop taking t...          0.233213\n",
              "13  The best source of information regarding medic...          0.204298\n",
              "8   Since beginning treatment is a big step for in...          0.190096\n",
              "11  Beginning treatment is a big step for individu...          0.190096\n",
              "0   Mental illnesses are health conditions that di...          0.180822\n",
              "5   Although this website cannot substitute for pr...          0.130614"
            ]
          },
          "execution_count": 35,
          "metadata": {},
          "output_type": "execute_result"
        }
      ],
      "source": [
        "threshold = 0.1                                                                                   # considering the value of smiliarity to be greater than 0.1\n",
        "df_threshold = df_simi_tfidf_sort[df_simi_tfidf_sort['similarity_tfidf'] > threshold] \n",
        "df_threshold"
      ]
    },
    {
      "cell_type": "code",
      "execution_count": 36,
      "metadata": {
        "colab": {
          "base_uri": "https://localhost:8080/"
        },
        "id": "Un2v35qzCn6X",
        "outputId": "6eb29949-231c-4e17-e58d-3c5b118ae540"
      },
      "outputs": [
        {
          "data": {
            "text/plain": [
              "7"
            ]
          },
          "execution_count": 36,
          "metadata": {},
          "output_type": "execute_result"
        }
      ],
      "source": [
        "index_value1 = cos.argmax()                                                   # returns the index number of highest value\n",
        "index_value1"
      ]
    },
    {
      "cell_type": "code",
      "execution_count": 37,
      "metadata": {
        "colab": {
          "base_uri": "https://localhost:8080/",
          "height": 36
        },
        "id": "4C0KLnatCuH9",
        "outputId": "2f342730-6261-47ea-d7f0-4784b9291107"
      },
      "outputs": [
        {
          "data": {
            "text/plain": [
              "'Just as there are different types of medications for physical illness, different treatment options are available for individuals with mental illness. Treatment works differently for different people. It is important to find what works best for you or your child.'"
            ]
          },
          "execution_count": 37,
          "metadata": {},
          "output_type": "execute_result"
        }
      ],
      "source": [
        "df['Answers'].loc[index_value1]                                               # returns the text at that index"
      ]
    },
    {
      "cell_type": "markdown",
      "metadata": {
        "id": "IhDZhgV5WI7g"
      },
      "source": [
        "# Testing chatbot"
      ]
    },
    {
      "cell_type": "code",
      "execution_count": 38,
      "metadata": {
        "id": "ri3aOkDVC34P"
      },
      "outputs": [],
      "source": [
        "# defining a function that returns response to query using bow\n",
        "\n",
        "def chat_bow(text):\n",
        "    lemma = text_normalization(text) # calling the function to perform text normalization\n",
        "    bow = cv.transform([lemma]).toarray() # applying bow\n",
        "    cosine_value = 1- pairwise_distances(df_bow,bow, metric = 'cosine' )\n",
        "    index_value = cosine_value.argmax() # getting index value \n",
        "    return df['Answers'].loc[index_value]"
      ]
    },
    {
      "cell_type": "code",
      "execution_count": 39,
      "metadata": {
        "colab": {
          "base_uri": "https://localhost:8080/",
          "height": 36
        },
        "id": "kfGihw_jC8Fz",
        "outputId": "6107a3f9-a491-4bf7-ba51-fdc907324f4c"
      },
      "outputs": [
        {
          "data": {
            "text/plain": [
              "'When healing from mental illness, early identification and treatment are of vital importance. Based on the nature of the illness, there are a range of effective treatments available. For any type of treatment, it is essential that the person affected is proactive and fully engaged in their own recovery process.\\nMany people with mental illnesses who are diagnosed and treated respond well, although some might experience a return of symptoms. Even in such cases, with careful monitoring and management of the disorder, it is still quite possible to live a fulfilled and productive life.'"
            ]
          },
          "execution_count": 39,
          "metadata": {},
          "output_type": "execute_result"
        }
      ],
      "source": [
        "chat_bow('can you prevent mental health problems')"
      ]
    },
    {
      "cell_type": "code",
      "execution_count": 40,
      "metadata": {
        "colab": {
          "base_uri": "https://localhost:8080/",
          "height": 36
        },
        "id": "5p5rATqPDl1o",
        "outputId": "5978404a-c27f-4277-f70c-89e879dab764"
      },
      "outputs": [
        {
          "data": {
            "text/plain": [
              "'Just as there are different types of medications for physical illness, different treatment options are available for individuals with mental illness. Treatment works differently for different people. It is important to find what works best for you or your child.'"
            ]
          },
          "execution_count": 40,
          "metadata": {},
          "output_type": "execute_result"
        }
      ],
      "source": [
        "chat_bow('what is mental health')"
      ]
    },
    {
      "cell_type": "code",
      "execution_count": 41,
      "metadata": {
        "colab": {
          "base_uri": "https://localhost:8080/",
          "height": 36
        },
        "id": "j2pjkWnvD5d5",
        "outputId": "25bf5afe-13d4-42f2-d758-a0fe34a2d6d8"
      },
      "outputs": [
        {
          "data": {
            "text/plain": [
              "'Just as there are different types of medications for physical illness, different treatment options are available for individuals with mental illness. Treatment works differently for different people. It is important to find what works best for you or your child.'"
            ]
          },
          "execution_count": 41,
          "metadata": {},
          "output_type": "execute_result"
        }
      ],
      "source": [
        "chat_bow('are there cures for mental health problems')"
      ]
    },
    {
      "cell_type": "code",
      "execution_count": 42,
      "metadata": {
        "colab": {
          "base_uri": "https://localhost:8080/",
          "height": 36
        },
        "id": "mdnxBzdgDrFw",
        "outputId": "13991a7f-4890-4113-bf0c-39b3104396b4"
      },
      "outputs": [
        {
          "data": {
            "text/plain": [
              "'It is not uncommon for people to stop taking their medication when they feel their symptoms are under control. Others may choose to stop taking their medication because of its side effects, without realizing that most side effects can be effectively managed. While it may seem reasonable to stop taking the medication, the problem is that most often, the symptoms will return. If you or your child is taking medication, it is very important that you work together with your doctor before making decisions about any changes in your treatment.\\\\nAnother problem with stopping medication, particularly for stopping it abruptly, is that you may develop withdrawal symptoms that can be very unpleasant. If you and your doctor feel a trial off your medicine is a good idea, it is necessary to slowly decrease the dosage of medications so that these symptoms don’t occur.\\\\nIt is important that your doctor and pharmacist work together to make sure your medications are working safely and effectively. You should talk with them about how you are doing and if there are side effects that make you unwilling to continue treatment. They will work with you to develop strategies for minimizing these side effects, or will create a plan for switching to a different treatment that will be a better fit.'"
            ]
          },
          "execution_count": 42,
          "metadata": {},
          "output_type": "execute_result"
        }
      ],
      "source": [
        "chat_bow('how do I know if i am unwell')"
      ]
    },
    {
      "cell_type": "code",
      "execution_count": 43,
      "metadata": {
        "colab": {
          "base_uri": "https://localhost:8080/",
          "height": 36
        },
        "id": "JHv1q2t_EETl",
        "outputId": "80cccda1-d2b7-4b73-9bee-26ebda4014e9"
      },
      "outputs": [
        {
          "data": {
            "text/plain": [
              "'It is estimated that mental illness affects 1 in 5 adults in America, and that 1 in 24 adults have a serious mental illness. Mental illness does not discriminate; it can affect anyone, regardless of gender, age, income, social status, ethnicity, religion, sexual orientation, or background. Although mental illness can affect anyone, certain conditions may be more common in different populations. For instance, eating disorders tend to occur more often in females, while disorders such as attention deficit/hyperactivity disorder is more prevalent in children. Additionally, all ages are susceptible, but the young and the old are especially vulnerable. Mental illnesses usually strike individuals in the prime of their lives, with 75 percent of mental health conditions developing by the age of 24. This makes identification and treatment of mental disorders particularly difficult, because the normal personality and behavioral changes of adolescence may mask symptoms of a mental health condition. Parents and caretakers should be aware of this fact, and take notice of changes in their child’s mood, personality, personal habits, and social withdrawal. When these occur in children under 18, they are referred to as serious emotional disturbances (SEDs).'"
            ]
          },
          "execution_count": 43,
          "metadata": {},
          "output_type": "execute_result"
        }
      ],
      "source": [
        "chat_bow('what do you mean by mental health')"
      ]
    },
    {
      "cell_type": "code",
      "execution_count": 44,
      "metadata": {
        "id": "kWCumn0vELvd"
      },
      "outputs": [],
      "source": [
        "# defining a function that returns response to query using tf-idf\n",
        "\n",
        "def chat_tfidf(text):\n",
        "    lemma = text_normalization(text) # calling the function to perform text normalization\n",
        "    tf = tfidf.transform([lemma]).toarray() # applying tf-idf\n",
        "    cos = 1-pairwise_distances(df_tfidf,tf,metric='cosine') # applying cosine similarity\n",
        "    index_value = cos.argmax() # getting index value \n",
        "    return df['Answers'].loc[index_value]"
      ]
    },
    {
      "cell_type": "code",
      "execution_count": 45,
      "metadata": {
        "colab": {
          "base_uri": "https://localhost:8080/",
          "height": 36
        },
        "id": "TLcTyog2Ea2t",
        "outputId": "74eff99b-6e9d-44f3-93a4-15aada6320ad"
      },
      "outputs": [
        {
          "data": {
            "text/plain": [
              "'Some pharmaceutical companies offer prescription assistance programs to individuals and families with financial needs, while others offer special drug discount cards. These programs typically require a doctor’s consent and proof of your financial status. They may also require that you have either no health insurance or no prescription drug benefit through your health insurance.\\\\nIn addition, there are prescription programs you might qualify for. Visit Healthfinder.gov to learn more.'"
            ]
          },
          "execution_count": 45,
          "metadata": {},
          "output_type": "execute_result"
        }
      ],
      "source": [
        "chat_tfidf('how do i see a counsellor')"
      ]
    },
    {
      "cell_type": "code",
      "execution_count": 46,
      "metadata": {
        "colab": {
          "base_uri": "https://localhost:8080/",
          "height": 36
        },
        "id": "YBK2XUM-Ek29",
        "outputId": "144fa0a1-96b7-4967-daf0-3a95a0bbe9a6"
      },
      "outputs": [
        {
          "data": {
            "text/plain": [
              "'Some pharmaceutical companies offer prescription assistance programs to individuals and families with financial needs, while others offer special drug discount cards. These programs typically require a doctor’s consent and proof of your financial status. They may also require that you have either no health insurance or no prescription drug benefit through your health insurance.\\\\nIn addition, there are prescription programs you might qualify for. Visit Healthfinder.gov to learn more.'"
            ]
          },
          "execution_count": 46,
          "metadata": {},
          "output_type": "execute_result"
        }
      ],
      "source": [
        "chat_tfidf('how to find a support group')"
      ]
    },
    {
      "cell_type": "code",
      "execution_count": null,
      "metadata": {},
      "outputs": [],
      "source": []
    },
    {
      "cell_type": "code",
      "execution_count": null,
      "metadata": {},
      "outputs": [],
      "source": []
    }
  ],
  "metadata": {
    "colab": {
      "collapsed_sections": [],
      "name": "Rule based",
      "provenance": [],
      "toc_visible": true
    },
    "kernelspec": {
      "display_name": "Python 3",
      "language": "python",
      "name": "python3"
    },
    "language_info": {
      "codemirror_mode": {
        "name": "ipython",
        "version": 3
      },
      "file_extension": ".py",
      "mimetype": "text/x-python",
      "name": "python",
      "nbconvert_exporter": "python",
      "pygments_lexer": "ipython3",
      "version": "3.10.12"
    }
  },
  "nbformat": 4,
  "nbformat_minor": 0
}
